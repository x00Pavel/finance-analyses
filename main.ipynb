{
 "cells": [
  {
   "cell_type": "code",
   "execution_count": 1,
   "metadata": {},
   "outputs": [],
   "source": [
    "import pandas as pd\n",
    "from pathlib import Path\n",
    "from dataclasses import dataclass, field\n",
    "import re\n",
    "from sqlalchemy import create_engine"
   ]
  },
  {
   "cell_type": "code",
   "execution_count": 2,
   "metadata": {},
   "outputs": [],
   "source": [
    "conn = create_engine('sqlite:///data.db')\n",
    "cur_dir = Path.cwd()\n",
    "data_dir = cur_dir / 'data'\n",
    "if not data_dir.exists:\n",
    "    data_dir.mkdir()\n",
    "\n",
    "\n",
    "@dataclass\n",
    "class Category:\n",
    "    name: str\n",
    "    key_words: list[str] = field(default_factory=list)\n",
    "    transaction: pd.Series = field(default_factory=lambda : pd.Series)\n",
    "    bank_category: list[str] = field(default_factory=list)\n"
   ]
  },
  {
   "cell_type": "code",
   "execution_count": 8,
   "metadata": {},
   "outputs": [],
   "source": [
    "food = Category(\n",
    "    name='Продукты',\n",
    "    key_words=['Albert', 'Lidl', 'Kaufland', 'Billa', 'ASIAN MANGO', 'maso',\n",
    "               'GLOBUS BRNO', 'Potraviny FOLKOVA'])\n",
    "food_out_side = Category(\n",
    "    name='Еда на вынос',\n",
    "    key_words=['VENTANA', 'MOTMOT', 'McDonalds', 'KFC', 'Burger King',\n",
    "               'Restaurant', 'Restaurace', 'CHILLI TREE', 'KOFIBOX','SUSHIMIX',\n",
    "               'Damejidlo', 'Pizza', 'NEEXISTUJE', 'KAFE', 'JIDELNI VUZ']\n",
    "    )\n",
    "go_pay = Category(\n",
    "    name='GoPay',\n",
    "    key_words=['GoPay'])\n",
    "additional = Category(\n",
    "    name='Сторонние покупки',\n",
    "    key_words=['DATART', 'PlayStation', 'CESKA POSTA', 'CINEMA', 'KVETINY',\n",
    "               'CELIO', 'PRIMARK', 'SB Olympia Brno Brno', 'Kino', 'ROSSMANN',\n",
    "               'HULK GYM', 'HULK GYM', 'relaxin', 'TIGER', 'ZARA', 'H&M',\n",
    "               ])\n",
    "regular_payments = Category(\n",
    "    name='Регулярные платежи',\n",
    "    key_words=['hetzner', 'SPOTIFY', 'NETFLIX', 'BARBER', 'BUBELINY', 'Vodafone'],\n",
    "    bank_category=['Nájem'])\n",
    "transport = Category(\n",
    "    name='Транспорт',\n",
    "    key_words=['DPP', 'Flixbus', 'www.cd.cz', 'MPLA', 'EDALNICE', 'IDSJMK'],\n",
    "    bank_category=['Doprava',]\n",
    ")\n",
    "transfers_n_cache = Category(\n",
    "    name='Переводы и выдача наличных',\n",
    "    key_words=['Výber', 'Výběr z bankomatu', 'Revolut', 'MMB2713',\n",
    "               'VÝBĚR HOTOVOSTI'],\n",
    "    bank_category=['Bankomat']\n",
    ")\n",
    "\n",
    "\n",
    "income = Category(\n",
    "    name='Переводы на счет',\n",
    ")\n",
    "unsorted = Category(\n",
    "    name='Неотсартированные'\n",
    ")\n",
    "\n",
    "categories = [food, food_out_side, go_pay, additional, regular_payments, transport, transfers_n_cache]"
   ]
  },
  {
   "cell_type": "code",
   "execution_count": 10,
   "metadata": {},
   "outputs": [
    {
     "name": "stdout",
     "output_type": "stream",
     "text": [
      "         Číslo účtu                      IBAN Číslo protiúčtu  \\\n",
      "0               NaN                       NaN             NaN   \n",
      "1    233993963/0600  CZ9306000000000233993963             NaN   \n",
      "2    233993963/0600  CZ9306000000000233993963             NaN   \n",
      "3    233993963/0600  CZ9306000000000233993963             NaN   \n",
      "4    233993963/0600  CZ9306000000000233993963             NaN   \n",
      "..              ...                       ...             ...   \n",
      "871  233993963/0600  CZ9306000000000233993963      2457245779   \n",
      "872  233993963/0600  CZ9306000000000233993963             NaN   \n",
      "873  233993963/0600  CZ9306000000000233993963             NaN   \n",
      "874  233993963/0600  CZ9306000000000233993963             NaN   \n",
      "875  233993963/0600  CZ9306000000000233993963             NaN   \n",
      "\n",
      "     Banka protiúčtu Název účtu příjemce   Splatnost    Odesláno    Částka  \\\n",
      "0                NaN                 NaN         NaN         NaN   -299,40   \n",
      "1                NaN                 NaN         NaN  30.01.2023   -188,15   \n",
      "2                NaN                 NaN         NaN  30.01.2023   -150,00   \n",
      "3                NaN                 NaN         NaN  30.01.2023    -59,80   \n",
      "4                NaN                 NaN         NaN  30.01.2023   -187,00   \n",
      "..               ...                 ...         ...         ...       ...   \n",
      "871           5500.0                 NaN  03.01.2022  03.01.2022  -5500,00   \n",
      "872              NaN                 NaN         NaN  03.01.2022   -142,30   \n",
      "873              NaN                 NaN         NaN  03.01.2022    -14,60   \n",
      "874              NaN                 NaN         NaN  03.01.2022    -85,00   \n",
      "875              NaN                 NaN         NaN  03.01.2022   -436,00   \n",
      "\n",
      "    Měna  Variabilní Symbol  Specifický Symbol  Konstantní Symbol  \\\n",
      "0    CZK                NaN                NaN                NaN   \n",
      "1    CZK                NaN                NaN                NaN   \n",
      "2    CZK                NaN                NaN                NaN   \n",
      "3    CZK                NaN                NaN                NaN   \n",
      "4    CZK                NaN                NaN                NaN   \n",
      "..   ...                ...                ...                ...   \n",
      "871  CZK          6102000.0                NaN                NaN   \n",
      "872  CZK                NaN                NaN                NaN   \n",
      "873  CZK                NaN                NaN                NaN   \n",
      "874  CZK                NaN                NaN                NaN   \n",
      "875  CZK                NaN                NaN                NaN   \n",
      "\n",
      "    Zpráva pro příjemce  Poznámka pro mě Název kategorie  \\\n",
      "0                   NaN              NaN             NaN   \n",
      "1                   NaN              NaN    Jídlo a pití   \n",
      "2                   NaN              NaN    Jídlo a pití   \n",
      "3                   NaN              NaN  Krása a zdraví   \n",
      "4                   NaN              NaN       Domácnost   \n",
      "..                  ...              ...             ...   \n",
      "871                 NaN              NaN           Nájem   \n",
      "872                 NaN              NaN    Jídlo a pití   \n",
      "873                 NaN              NaN  Krása a zdraví   \n",
      "874                 NaN              NaN          Zábava   \n",
      "875                 NaN              NaN    Jídlo a pití   \n",
      "\n",
      "              Typ transakce  Název trvalého příkazu  \\\n",
      "0                       NaN                     NaN   \n",
      "1    Použití platební karty                     NaN   \n",
      "2    Použití platební karty                     NaN   \n",
      "3    Použití platební karty                     NaN   \n",
      "4    Použití platební karty                     NaN   \n",
      "..                      ...                     ...   \n",
      "871         Příkaz k úhradě                     NaN   \n",
      "872  Použití platební karty                     NaN   \n",
      "873  Použití platební karty                     NaN   \n",
      "874  Použití platební karty                     NaN   \n",
      "875  Použití platební karty                     NaN   \n",
      "\n",
      "                       Popis platby  Popis platby 2  \\\n",
      "0                               NaN             NaN   \n",
      "1    Billa Namesti Svornost Brno CZ             NaN   \n",
      "2        Kavarna OC Perla Rosice CZ             NaN   \n",
      "3       ROSSMANN VAM DEKUJE BRNO CZ             NaN   \n",
      "4             TABAK POINT4U BRNO CZ             NaN   \n",
      "..                              ...             ...   \n",
      "871                PŘÍKAZ K ÚHRADĚ              NaN   \n",
      "872  Lidl dekuje za nakup Brno - Ve             NaN   \n",
      "873   DM DROGERIE MARKT  -2 BRNO CZ             NaN   \n",
      "874         HULK GYM S.R.O. BRNO CZ             NaN   \n",
      "875   KAUFLAND CZ  4310 BRNO PONAVA             NaN   \n",
      "\n",
      "                               Bankovní reference  \n",
      "0                                             NaN  \n",
      "1        0233993963:20230130:00008:230128V0986791  \n",
      "2        0233993963:20230130:00007:230127V1046645  \n",
      "3        0233993963:20230130:00006:230127V0932861  \n",
      "4        0233993963:20230130:00005:230127V0932859  \n",
      "..                                            ...  \n",
      "871  0233993963:20220103:00005:220101I00014490219  \n",
      "872      0233993963:20220103:00004:220101V0252111  \n",
      "873      0233993963:20220103:00003:220101V0125925  \n",
      "874      0233993963:20220103:00002:211231V0741705  \n",
      "875      0233993963:20220103:00001:211231V0442517  \n",
      "\n",
      "[876 rows x 20 columns]\n"
     ]
    }
   ],
   "source": [
    "df = pd.concat([pd.read_csv(data_dir / f, delimiter=';') for f in data_dir.iterdir()])       \n",
    "       \n",
    "columns_2_remove = ['Číslo protiúčtu', 'Banka protiúčtu', 'Název účtu příjemce',\n",
    "       'Splatnost', 'Variabilní Symbol', 'Specifický Symbol',\n",
    "       'Konstantní Symbol', 'Zpráva pro příjemce', 'Poznámka pro mě',\n",
    "       'Název trvalého příkazu', 'Popis platby 2', 'IBAN']\n",
    "print(df)\n",
    "df.drop(columns_2_remove, inplace=True, axis=1)"
   ]
  },
  {
   "cell_type": "code",
   "execution_count": null,
   "metadata": {},
   "outputs": [],
   "source": [
    "df['Částka'] = df['Částka'].str.replace(',', '.').astype({'Částka': 'float64'}) \n",
    "income.transaction = df[df['Částka'] > 0].copy()\n",
    "df.drop(income.transaction.index, inplace=True)\n",
    "df.fillna('No value', inplace=True)\n",
    "for cat in categories:\n",
    "    cat.transaction = df[df['Popis platby'].str.contains('|'.join(cat.key_words), flags=re.IGNORECASE, regex=True)].copy()\n",
    "    df.drop(cat.transaction.index, inplace=True)\n",
    "    values = df[df['Název kategorie'].isin(cat.bank_category)].copy()\n",
    "    df.drop(values.index, inplace=True)\n",
    "    pd.concat([cat.transaction, values])\n",
    "unsorted.transaction = df"
   ]
  },
  {
   "cell_type": "code",
   "execution_count": null,
   "metadata": {},
   "outputs": [
    {
     "data": {
      "text/html": [
       "<div>\n",
       "<style scoped>\n",
       "    .dataframe tbody tr th:only-of-type {\n",
       "        vertical-align: middle;\n",
       "    }\n",
       "\n",
       "    .dataframe tbody tr th {\n",
       "        vertical-align: top;\n",
       "    }\n",
       "\n",
       "    .dataframe thead th {\n",
       "        text-align: right;\n",
       "    }\n",
       "</style>\n",
       "<table border=\"1\" class=\"dataframe\">\n",
       "  <thead>\n",
       "    <tr style=\"text-align: right;\">\n",
       "      <th></th>\n",
       "      <th>Číslo účtu</th>\n",
       "      <th>Odesláno</th>\n",
       "      <th>Částka</th>\n",
       "      <th>Měna</th>\n",
       "      <th>Název kategorie</th>\n",
       "      <th>Typ transakce</th>\n",
       "      <th>Popis platby</th>\n",
       "      <th>Bankovní reference</th>\n",
       "    </tr>\n",
       "  </thead>\n",
       "  <tbody>\n",
       "    <tr>\n",
       "      <th>3</th>\n",
       "      <td>233993963/0600</td>\n",
       "      <td>27.12.2022</td>\n",
       "      <td>-230.0</td>\n",
       "      <td>CZK</td>\n",
       "      <td>Služby</td>\n",
       "      <td>Příkaz k úhradě</td>\n",
       "      <td>OKAMŽITÁ ÚHRADA</td>\n",
       "      <td>0233993963:20221227:00009:221226XSB4157917905</td>\n",
       "    </tr>\n",
       "    <tr>\n",
       "      <th>13</th>\n",
       "      <td>233993963/0600</td>\n",
       "      <td>27.12.2022</td>\n",
       "      <td>-280.0</td>\n",
       "      <td>CZK</td>\n",
       "      <td>Bydlení</td>\n",
       "      <td>Použití platební karty</td>\n",
       "      <td>MOBILNI STANEK 4 PONIKLA CZ</td>\n",
       "      <td>0233993963:20221227:00001:221223V0176275</td>\n",
       "    </tr>\n",
       "    <tr>\n",
       "      <th>48</th>\n",
       "      <td>233993963/0600</td>\n",
       "      <td>13.12.2022</td>\n",
       "      <td>-390.0</td>\n",
       "      <td>CZK</td>\n",
       "      <td>Jídlo a pití</td>\n",
       "      <td>Použití platební karty</td>\n",
       "      <td>SUMUP  *DOMOVINA BRNO CZ</td>\n",
       "      <td>0233993963:20221213:00006:221212V1113569</td>\n",
       "    </tr>\n",
       "  </tbody>\n",
       "</table>\n",
       "</div>"
      ],
      "text/plain": [
       "        Číslo účtu    Odesláno  Částka Měna Název kategorie  \\\n",
       "3   233993963/0600  27.12.2022  -230.0  CZK          Služby   \n",
       "13  233993963/0600  27.12.2022  -280.0  CZK         Bydlení   \n",
       "48  233993963/0600  13.12.2022  -390.0  CZK    Jídlo a pití   \n",
       "\n",
       "             Typ transakce                 Popis platby  \\\n",
       "3          Příkaz k úhradě             OKAMŽITÁ ÚHRADA    \n",
       "13  Použití platební karty  MOBILNI STANEK 4 PONIKLA CZ   \n",
       "48  Použití platební karty     SUMUP  *DOMOVINA BRNO CZ   \n",
       "\n",
       "                               Bankovní reference  \n",
       "3   0233993963:20221227:00009:221226XSB4157917905  \n",
       "13       0233993963:20221227:00001:221223V0176275  \n",
       "48       0233993963:20221213:00006:221212V1113569  "
      ]
     },
     "execution_count": 6,
     "metadata": {},
     "output_type": "execute_result"
    }
   ],
   "source": [
    "unsorted.transaction"
   ]
  },
  {
   "cell_type": "code",
   "execution_count": null,
   "metadata": {},
   "outputs": [
    {
     "data": {
      "text/plain": [
       "Index(['Číslo účtu', 'Odesláno', 'Částka', 'Měna', 'Název kategorie',\n",
       "       'Typ transakce', 'Popis platby', 'Bankovní reference'],\n",
       "      dtype='object')"
      ]
     },
     "execution_count": 9,
     "metadata": {},
     "output_type": "execute_result"
    }
   ],
   "source": [
    "unsorted.transaction.columns"
   ]
  },
  {
   "cell_type": "code",
   "execution_count": null,
   "metadata": {},
   "outputs": [
    {
     "data": {
      "text/plain": [
       "15"
      ]
     },
     "execution_count": 7,
     "metadata": {},
     "output_type": "execute_result"
    }
   ],
   "source": [
    "additional.transaction.to_sql('transaction', conn, if_exists='append', index=False)"
   ]
  },
  {
   "cell_type": "code",
   "execution_count": 13,
   "metadata": {},
   "outputs": [
    {
     "name": "stdout",
     "output_type": "stream",
     "text": [
      "2023-03-01\n",
      "2023-03-02\n",
      "2023-03-03\n",
      "2023-03-04\n",
      "2023-03-05\n",
      "2023-03-06\n",
      "2023-03-07\n",
      "2023-03-08\n",
      "2023-03-09\n",
      "2023-03-10\n",
      "2023-03-11\n",
      "2023-03-12\n",
      "2023-03-13\n",
      "2023-03-14\n",
      "2023-03-15\n",
      "2023-03-16\n",
      "2023-03-17\n",
      "2023-03-18\n",
      "2023-03-19\n",
      "2023-03-20\n",
      "2023-03-21\n",
      "2023-03-22\n",
      "2023-03-23\n",
      "2023-03-24\n",
      "2023-03-25\n",
      "2023-03-26\n",
      "2023-03-27\n",
      "2023-03-28\n",
      "2023-03-29\n",
      "2023-03-30\n",
      "2023-03-31\n"
     ]
    }
   ],
   "source": [
    "from datetime import datetime\n",
    "from pandas import date_range\n",
    "from datetime import date, timedelta\n",
    "    \n",
    "month = datetime.now().month + 1\n",
    "next_month = month + 1\n",
    "\n",
    "start_date = date(2023, month, 1) \n",
    "end_date = date(2023, month + 1, 1)    # perhaps date.now()\n",
    "next_month = start_date.replace(day=28) + timedelta(days=4)\n",
    "res = next_month - timedelta(days=next_month.day)\n",
    "\n",
    "delta = res - start_date   # returns timedelta\n",
    "\n",
    "for i in range(delta.days + 1):\n",
    "    day = start_date + timedelta(days=i)\n",
    "    print(day)\n"
   ]
  },
  {
   "cell_type": "code",
   "execution_count": 9,
   "metadata": {},
   "outputs": [
    {
     "name": "stdout",
     "output_type": "stream",
     "text": [
      "[Timestamp('2023-01-02 00:00:00', freq='D'), Timestamp('2023-01-03 00:00:00', freq='D')]\n"
     ]
    }
   ],
   "source": [
    "print(dr)"
   ]
  }
 ],
 "metadata": {
  "kernelspec": {
   "display_name": "fin-analyses",
   "language": "python",
   "name": "python3"
  },
  "language_info": {
   "codemirror_mode": {
    "name": "ipython",
    "version": 3
   },
   "file_extension": ".py",
   "mimetype": "text/x-python",
   "name": "python",
   "nbconvert_exporter": "python",
   "pygments_lexer": "ipython3",
   "version": "3.10.6"
  },
  "orig_nbformat": 4,
  "vscode": {
   "interpreter": {
    "hash": "19f300c3be5874f2b7f7c7fcc495857f7d2186c3970fbc7c65fc8244a0d0134f"
   }
  }
 },
 "nbformat": 4,
 "nbformat_minor": 2
}
